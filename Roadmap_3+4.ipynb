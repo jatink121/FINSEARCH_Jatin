{
  "nbformat": 4,
  "nbformat_minor": 0,
  "metadata": {
    "colab": {
      "provenance": [],
      "mount_file_id": "184XtIfMjaZmnkWewDxl61F0QyF3PmFI6",
      "authorship_tag": "ABX9TyPmEpQp2B4Lpf+Lk833qUXO",
      "include_colab_link": true
    },
    "kernelspec": {
      "name": "python3",
      "display_name": "Python 3"
    },
    "language_info": {
      "name": "python"
    }
  },
  "cells": [
    {
      "cell_type": "markdown",
      "metadata": {
        "id": "view-in-github",
        "colab_type": "text"
      },
      "source": [
        "<a href=\"https://colab.research.google.com/github/jatink121/FINSEARCH_Jatin/blob/main/Roadmap_3%2B4.ipynb\" target=\"_parent\"><img src=\"https://colab.research.google.com/assets/colab-badge.svg\" alt=\"Open In Colab\"/></a>"
      ]
    },
    {
      "cell_type": "code",
      "execution_count": null,
      "metadata": {
        "id": "AS1qyKdVcvBL"
      },
      "outputs": [],
      "source": [
        "import numpy as np\n",
        "import pandas as pd\n",
        "import matplotlib as plt\n",
        "import tensorflow as tf\n"
      ]
    },
    {
      "cell_type": "code",
      "source": [
        "file_path = '/content/drive/MyDrive/Finsearch/Nifty_50_Data.csv'\n",
        "data = pd.read_csv(file_path)"
      ],
      "metadata": {
        "id": "cGQhUkgldLph"
      },
      "execution_count": null,
      "outputs": []
    },
    {
      "cell_type": "code",
      "source": [
        "df = data.iloc[::-1]"
      ],
      "metadata": {
        "id": "4HWCwws_dMUx"
      },
      "execution_count": null,
      "outputs": []
    },
    {
      "cell_type": "code",
      "source": [
        "class state :\n",
        "  def __init__(self, prev_val, big_mov_avg, val, mov_avg):\n",
        "    self.prev_val = prev_val\n",
        "    self.big_mov_avg = big_mov_avg\n",
        "    self.val = val\n",
        "    self.mov_avg = mov_avg\n",
        "  def state_representation (self) :\n",
        "    return np.array([self.prev_val , self.big_mov_avg, self.val ,self.mov_avg])\n",
        "def random_action() :\n",
        "  action  =  np.random.randint(0,3)\n",
        "  return action\n",
        "def reward(action ,present_state , Post_state) :\n",
        "  if action==0  :                              #  buy\n",
        "    PnL = (Post_state-present_state)\n",
        "  elif action ==2:                             #sell\n",
        "    PnL = (present_state - Post_state)\n",
        "  else :                                   #hold\n",
        "    PnL = 0\n",
        "  return PnL"
      ],
      "metadata": {
        "id": "TAoJW8vWdUgv"
      },
      "execution_count": null,
      "outputs": []
    },
    {
      "cell_type": "code",
      "source": [
        "from tensorflow import keras\n",
        "from tensorflow.keras import layers, models\n",
        "input_vals = tf.keras.Input(shape=(4,))\n",
        "x = layers.Dense(128, activation='relu')(input_vals)\n",
        "x = layers.Dense(64, activation='relu')(x)\n",
        "x = layers.Dense(32, activation='relu')(x)\n",
        "\n",
        "# Output layer with 3 neurons\n",
        "output_vals = layers.Dense(3, activation='linear')(x)\n",
        "\n",
        "# Create the model\n",
        "model = models.Model(inputs=input_vals, outputs=output_vals)\n",
        "model.compile(loss='mean_squared_error', optimizer='adam')"
      ],
      "metadata": {
        "id": "Yhd7EnkTS1zt"
      },
      "execution_count": null,
      "outputs": []
    },
    {
      "cell_type": "code",
      "source": [
        "States_list  = [np.array([0 , df['Avg2'][len(df)-1] ,df['Open'][len(df)-1] , df['Avg'][len(df)-1]])]\n",
        "j=len(df)-2\n",
        "while j>=0:\n",
        "  temp_state = state(df['Open'][j+1], df['Avg2'][j], df['Open'][j], df['Avg'][j])\n",
        "  temp_state_representation = temp_state.state_representation()\n",
        "  States_list.append(temp_state_representation)\n",
        "  j-=1\n",
        "States = np.array(States_list)"
      ],
      "metadata": {
        "id": "bDKspgB6aq_d"
      },
      "execution_count": null,
      "outputs": []
    },
    {
      "cell_type": "code",
      "source": [
        "from collections import deque\n",
        "import random\n",
        "i=0\n",
        "j=0\n",
        "n_iterations = 100\n",
        "n_states = len(df)\n",
        "epsilon = 1.0\n",
        "epsilon_decay = 0.995\n",
        "min_epsilon = 0.01\n",
        "discount_factor = 0.6\n",
        "replay_buffer = deque(maxlen=5000)\n",
        "while i< n_iterations:\n",
        "  while j< n_states-1 :\n",
        "    state = States[j]\n",
        "    next_state = States[j+1]\n",
        "    if np.random.uniform(0,1) < epsilon :\n",
        "      action =  random_action ()\n",
        "    else :\n",
        "      action  = np.argmax(model.predict(np.expand_dims(state, axis=0)))\n",
        "    PnL  = reward(action ,state[2] , next_state[2] )\n",
        "    replay_buffer.append((state, action, PnL, next_state))\n",
        "    j+=1\n",
        "    epsilon = max(min_epsilon, epsilon * epsilon_decay)\n",
        "    if j%500==0 :\n",
        "      break\n",
        "    if j==n_states-1 :\n",
        "      j=0\n",
        "      break\n",
        "  batch_size =100\n",
        "  if len(replay_buffer) > batch_size:\n",
        "    batch = random.sample(replay_buffer, batch_size)\n",
        "    states, actions, rewards, next_states = zip(*batch)\n",
        "    q_next_state_list = model.predict(np.array(next_states))\n",
        "    q_target_matrix = np.array(rewards) + discount_factor * np.max(q_next_state_list, axis=1)\n",
        "    q_values = model.predict(np.array(states))\n",
        "    q_values[np.arange(batch_size), actions] = q_target_matrix\n",
        "    model.fit(np.array(states), q_values, validation_split=0.2, epochs=1)\n",
        "  if i%10==0 :\n",
        "    print(i,\"th iteration completed\")\n",
        "  i+=1\n"
      ],
      "metadata": {
        "id": "pFhoW10J01zF"
      },
      "execution_count": null,
      "outputs": []
    },
    {
      "cell_type": "code",
      "source": [
        "q_values = model.predict(np.expand_dims(States[2], axis=0))\n",
        "print(q_values)"
      ],
      "metadata": {
        "id": "9LfZUpiOd-e2",
        "colab": {
          "base_uri": "https://localhost:8080/"
        },
        "outputId": "68ef6348-a450-46d1-db07-300232e894ba"
      },
      "execution_count": null,
      "outputs": [
        {
          "output_type": "stream",
          "name": "stdout",
          "text": [
            "1/1 [==============================] - 0s 35ms/step\n",
            "[[  1.4199518   -0.49475065 -12.586126  ]]\n"
          ]
        }
      ]
    },
    {
      "cell_type": "code",
      "source": [
        "i=2340\n",
        "money_used =0\n",
        "money_made =0\n",
        "int_amount =0\n",
        "budget=100000\n",
        "profit=0\n",
        "n=0\n",
        "while i <2355:\n",
        "  cur_state = States[i]\n",
        "  next_state = States[i+1]\n",
        "  action  = np.argmax(model.predict(np.expand_dims(cur_state, axis=0)))\n",
        "  if int_amount>=budget and action ==0 :\n",
        "    action =1\n",
        "  if action ==0 :\n",
        "    int_amount+=state[2]\n",
        "    money_used+=state[2]\n",
        "    n+=1\n",
        "  elif action ==2 :\n",
        "    int_amount=0\n",
        "    money_made += n*cur_state[2]\n",
        "    profit+= n*cur_state[2] - int_amount\n",
        "    n=0\n",
        "  i+=1\n",
        "print((money_made + n*cur_state[2] - money_used)*100/money_used)"
      ],
      "metadata": {
        "id": "IOdUfwsb3TRD",
        "colab": {
          "base_uri": "https://localhost:8080/"
        },
        "outputId": "e577d147-45ca-4bf6-8457-fac7791e746e"
      },
      "execution_count": null,
      "outputs": [
        {
          "output_type": "stream",
          "name": "stdout",
          "text": [
            "1/1 [==============================] - 0s 34ms/step\n",
            "1/1 [==============================] - 0s 36ms/step\n",
            "1/1 [==============================] - 0s 34ms/step\n",
            "1/1 [==============================] - 0s 36ms/step\n",
            "1/1 [==============================] - 0s 53ms/step\n",
            "1/1 [==============================] - 0s 50ms/step\n",
            "1/1 [==============================] - 0s 59ms/step\n",
            "1/1 [==============================] - 0s 77ms/step\n",
            "1/1 [==============================] - 0s 51ms/step\n",
            "1/1 [==============================] - 0s 50ms/step\n",
            "1/1 [==============================] - 0s 38ms/step\n",
            "1/1 [==============================] - 0s 36ms/step\n",
            "1/1 [==============================] - 0s 35ms/step\n",
            "1/1 [==============================] - 0s 22ms/step\n"
          ]
        },
        {
          "output_type": "error",
          "ename": "IndexError",
          "evalue": "ignored",
          "traceback": [
            "\u001b[0;31m---------------------------------------------------------------------------\u001b[0m",
            "\u001b[0;31mIndexError\u001b[0m                                Traceback (most recent call last)",
            "\u001b[0;32m<ipython-input-10-c7106a6a7167>\u001b[0m in \u001b[0;36m<cell line: 8>\u001b[0;34m()\u001b[0m\n\u001b[1;32m      8\u001b[0m \u001b[0;32mwhile\u001b[0m \u001b[0mi\u001b[0m \u001b[0;34m<\u001b[0m\u001b[0;36m2355\u001b[0m\u001b[0;34m:\u001b[0m\u001b[0;34m\u001b[0m\u001b[0;34m\u001b[0m\u001b[0m\n\u001b[1;32m      9\u001b[0m   \u001b[0mcur_state\u001b[0m \u001b[0;34m=\u001b[0m \u001b[0mStates\u001b[0m\u001b[0;34m[\u001b[0m\u001b[0mi\u001b[0m\u001b[0;34m]\u001b[0m\u001b[0;34m\u001b[0m\u001b[0;34m\u001b[0m\u001b[0m\n\u001b[0;32m---> 10\u001b[0;31m   \u001b[0mnext_state\u001b[0m \u001b[0;34m=\u001b[0m \u001b[0mStates\u001b[0m\u001b[0;34m[\u001b[0m\u001b[0mi\u001b[0m\u001b[0;34m+\u001b[0m\u001b[0;36m1\u001b[0m\u001b[0;34m]\u001b[0m\u001b[0;34m\u001b[0m\u001b[0;34m\u001b[0m\u001b[0m\n\u001b[0m\u001b[1;32m     11\u001b[0m   \u001b[0maction\u001b[0m  \u001b[0;34m=\u001b[0m \u001b[0mnp\u001b[0m\u001b[0;34m.\u001b[0m\u001b[0margmax\u001b[0m\u001b[0;34m(\u001b[0m\u001b[0mmodel\u001b[0m\u001b[0;34m.\u001b[0m\u001b[0mpredict\u001b[0m\u001b[0;34m(\u001b[0m\u001b[0mnp\u001b[0m\u001b[0;34m.\u001b[0m\u001b[0mexpand_dims\u001b[0m\u001b[0;34m(\u001b[0m\u001b[0mcur_state\u001b[0m\u001b[0;34m,\u001b[0m \u001b[0maxis\u001b[0m\u001b[0;34m=\u001b[0m\u001b[0;36m0\u001b[0m\u001b[0;34m)\u001b[0m\u001b[0;34m)\u001b[0m\u001b[0;34m)\u001b[0m\u001b[0;34m\u001b[0m\u001b[0;34m\u001b[0m\u001b[0m\n\u001b[1;32m     12\u001b[0m   \u001b[0;32mif\u001b[0m \u001b[0mint_amount\u001b[0m\u001b[0;34m>=\u001b[0m\u001b[0mbudget\u001b[0m \u001b[0;32mand\u001b[0m \u001b[0maction\u001b[0m \u001b[0;34m==\u001b[0m\u001b[0;36m0\u001b[0m \u001b[0;34m:\u001b[0m\u001b[0;34m\u001b[0m\u001b[0;34m\u001b[0m\u001b[0m\n",
            "\u001b[0;31mIndexError\u001b[0m: index 2355 is out of bounds for axis 0 with size 2355"
          ]
        }
      ]
    },
    {
      "cell_type": "code",
      "source": [
        "model.save(\"/content/drive/MyDrive/Finsearch/DQN_model_finsearch_final.h5\")"
      ],
      "metadata": {
        "id": "uLrsLoweXgzC"
      },
      "execution_count": null,
      "outputs": []
    },
    {
      "cell_type": "code",
      "source": [],
      "metadata": {
        "id": "UoEMO7hbkQNh"
      },
      "execution_count": null,
      "outputs": []
    }
  ]
}